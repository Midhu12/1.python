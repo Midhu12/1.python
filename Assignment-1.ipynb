{
 "cells": [
  {
   "cell_type": "code",
   "execution_count": null,
   "id": "a2f4fef5",
   "metadata": {},
   "outputs": [],
   "source": [
    "BMI=int(input(\"enter the bmi index:\"))\n",
    "if(BMI<20):\n",
    "    print(\"under weight\")\n",
    "elif(BMI<25):\n",
    "    print(\"normal weight\")\n",
    "elif(BMI<30):\n",
    "    print(\"over weight\")\n",
    "else:\n",
    "    print(\"very over weight\")"
   ]
  }
 ],
 "metadata": {
  "kernelspec": {
   "display_name": "Python 3 (ipykernel)",
   "language": "python",
   "name": "python3"
  },
  "language_info": {
   "codemirror_mode": {
    "name": "ipython",
    "version": 3
   },
   "file_extension": ".py",
   "mimetype": "text/x-python",
   "name": "python",
   "nbconvert_exporter": "python",
   "pygments_lexer": "ipython3",
   "version": "3.11.4"
  }
 },
 "nbformat": 4,
 "nbformat_minor": 5
}
