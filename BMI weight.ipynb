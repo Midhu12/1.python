{
 "cells": [
  {
   "cell_type": "code",
   "execution_count": 3,
   "id": "f4bdae71",
   "metadata": {},
   "outputs": [
    {
     "name": "stdout",
     "output_type": "stream",
     "text": [
      "enter the weight:77\n",
      "enter the height1.50\n",
      "enter the BMI index: 34.22222222222222\n",
      "very over weight\n"
     ]
    }
   ],
   "source": [
    "weight=int(input(\"enter the weight:\"))\n",
    "height=float(input(\"enter the height\"))\n",
    "BMI=weight/(height*height)\n",
    "print(\"enter the BMI index:\",BMI)\n",
    "if(BMI<20):\n",
    "    print(\"under weight\")\n",
    "elif(BMI<25):\n",
    "    print(\"normal weight\")\n",
    "elif(BMI<30):\n",
    "    print(\"over weight\")\n",
    "else:\n",
    "    print(\"very over weight\")"
   ]
  },
  {
   "cell_type": "code",
   "execution_count": null,
   "id": "7bcf3c2f",
   "metadata": {},
   "outputs": [],
   "source": []
  },
  {
   "cell_type": "code",
   "execution_count": null,
   "id": "333c5805",
   "metadata": {},
   "outputs": [],
   "source": [
    "\n"
   ]
  }
 ],
 "metadata": {
  "kernelspec": {
   "display_name": "Python 3 (ipykernel)",
   "language": "python",
   "name": "python3"
  },
  "language_info": {
   "codemirror_mode": {
    "name": "ipython",
    "version": 3
   },
   "file_extension": ".py",
   "mimetype": "text/x-python",
   "name": "python",
   "nbconvert_exporter": "python",
   "pygments_lexer": "ipython3",
   "version": "3.11.4"
  }
 },
 "nbformat": 4,
 "nbformat_minor": 5
}
