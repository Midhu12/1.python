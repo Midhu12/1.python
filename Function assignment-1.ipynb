{
 "cells": [
  {
   "cell_type": "code",
   "execution_count": 1,
   "id": "485f1746",
   "metadata": {},
   "outputs": [
    {
     "name": "stdout",
     "output_type": "stream",
     "text": [
      "Sub-fields in AI are:\n",
      " Macine learning\n",
      " Neural Networks\n",
      " vision\n",
      " Robotics\n",
      " Speech Processing\n",
      " Natural Language Processing\n"
     ]
    }
   ],
   "source": [
    "def subfield():\n",
    "    print(\"Sub-fields in AI are:\\n Macine learning\\n Neural Networks\\n vision\\n Robotics\\n Speech Processing\\n Natural Language Processing\")\n",
    "subfield()"
   ]
  },
  {
   "cell_type": "code",
   "execution_count": 2,
   "id": "f6839792",
   "metadata": {},
   "outputs": [],
   "source": [
    "def oddeven():\n",
    "    num=int(input(\"enter the number:\"))\n",
    "    if((num%2==0)):\n",
    "        print(\"even number\")\n",
    "        message=\"even number\"\n",
    "    else:\n",
    "        print(\"odd number\")\n",
    "        message=\"odd number\"\n",
    "    return message"
   ]
  },
  {
   "cell_type": "code",
   "execution_count": 3,
   "id": "a05f9bda",
   "metadata": {},
   "outputs": [
    {
     "name": "stdout",
     "output_type": "stream",
     "text": [
      "enter the number:4\n",
      "even number\n"
     ]
    },
    {
     "data": {
      "text/plain": [
       "'even number'"
      ]
     },
     "execution_count": 3,
     "metadata": {},
     "output_type": "execute_result"
    }
   ],
   "source": [
    "oddeven()\n"
   ]
  },
  {
   "cell_type": "code",
   "execution_count": 4,
   "id": "6112fb00",
   "metadata": {},
   "outputs": [],
   "source": [
    "def elegiblecategory():\n",
    "    gender=input(\"enter your gender\\n'm'for male'f' for female:\")\n",
    "    age=int(input(\"enter your age:\"))          \n",
    "    print(\"your gender:\",gender)\n",
    "    print(\"your age:\",age)\n",
    "    print(\"elegible\" if ((age>=18 and gender=='f')or(age>=21 and gender=='m'))else\"not elegible\")\n",
    "    \n"
   ]
  },
  {
   "cell_type": "code",
   "execution_count": 5,
   "id": "847e865a",
   "metadata": {
    "scrolled": true
   },
   "outputs": [
    {
     "name": "stdout",
     "output_type": "stream",
     "text": [
      "enter your gender\n",
      "'m'for male'f' for female:male\n",
      "enter your age:18\n",
      "your gender: male\n",
      "your age: 18\n",
      "not elegible\n"
     ]
    }
   ],
   "source": [
    "elegiblecategory()"
   ]
  },
  {
   "cell_type": "markdown",
   "id": "096c7481",
   "metadata": {},
   "source": []
  },
  {
   "cell_type": "code",
   "execution_count": 13,
   "id": "d01737e4",
   "metadata": {},
   "outputs": [],
   "source": [
    "def percentage():\n",
    "    sub1=int(input(\"subject1:\"))\n",
    "    sub2=int(input(\"subject2:\"))\n",
    "    sub3=int(input(\"subject3:\"))\n",
    "    sub4=int(input(\"subject4:\")) \n",
    "    sub5=int(input(\"subject5:\"))\n",
    "    total=sub1+sub2+sub3+sub4+sub5\n",
    "    print(\"total:\",total)\n",
    "    cate=\"total\"\n",
    "    percentage=total/5\n",
    "    print(\"percentage:\",percentage)\n",
    "    cate=\"percentage:\",percentage\n",
    "    return cate\n"
   ]
  },
  {
   "cell_type": "code",
   "execution_count": 15,
   "id": "12754cee",
   "metadata": {},
   "outputs": [
    {
     "name": "stdout",
     "output_type": "stream",
     "text": [
      "subject1:23\n",
      "subject2:45\n",
      "subject3:34\n",
      "subject4:23\n",
      "subject5:23\n",
      "total: 148\n",
      "percentage: 29.6\n"
     ]
    },
    {
     "data": {
      "text/plain": [
       "('percentage:', 29.6)"
      ]
     },
     "execution_count": 15,
     "metadata": {},
     "output_type": "execute_result"
    }
   ],
   "source": [
    "percentage()"
   ]
  },
  {
   "cell_type": "code",
   "execution_count": 27,
   "id": "3b8e0c14",
   "metadata": {},
   "outputs": [],
   "source": [
    "def areaoftriangle():\n",
    "    height=3\n",
    "    breadth=4\n",
    "    area=(height*breadth)/2\n",
    "    print(\"area of triangle:\",area)\n",
    "    trianglearea=(\"area:\",area)\n",
    "    return trianglearea\n",
    "\n",
    "def perimeteroftriangle():\n",
    "    height1=3\n",
    "    height2=4\n",
    "    breadth=45\n",
    "    perimeter=height1+height2+breadth\n",
    "    print(\"perimeter of triangle:\", perimeter)\n",
    "    triangleperimeter=\"perimeter:\",perimeter\n",
    "    return triangleperimeter\n",
    "\n",
    "    \n",
    "    "
   ]
  },
  {
   "cell_type": "code",
   "execution_count": 29,
   "id": "814bd272",
   "metadata": {},
   "outputs": [
    {
     "name": "stdout",
     "output_type": "stream",
     "text": [
      "area of triangle: 6.0\n"
     ]
    },
    {
     "data": {
      "text/plain": [
       "('area', 6.0)"
      ]
     },
     "execution_count": 29,
     "metadata": {},
     "output_type": "execute_result"
    }
   ],
   "source": [
    "areaoftriangle()"
   ]
  },
  {
   "cell_type": "code",
   "execution_count": 28,
   "id": "047ae5e0",
   "metadata": {},
   "outputs": [
    {
     "name": "stdout",
     "output_type": "stream",
     "text": [
      "perimeter of triangle: 52\n"
     ]
    },
    {
     "data": {
      "text/plain": [
       "('perimeter:', 52)"
      ]
     },
     "execution_count": 28,
     "metadata": {},
     "output_type": "execute_result"
    }
   ],
   "source": [
    "perimeteroftriangle()"
   ]
  },
  {
   "cell_type": "code",
   "execution_count": null,
   "id": "b34a15e5",
   "metadata": {},
   "outputs": [],
   "source": []
  }
 ],
 "metadata": {
  "kernelspec": {
   "display_name": "Python 3 (ipykernel)",
   "language": "python",
   "name": "python3"
  },
  "language_info": {
   "codemirror_mode": {
    "name": "ipython",
    "version": 3
   },
   "file_extension": ".py",
   "mimetype": "text/x-python",
   "name": "python",
   "nbconvert_exporter": "python",
   "pygments_lexer": "ipython3",
   "version": "3.11.4"
  }
 },
 "nbformat": 4,
 "nbformat_minor": 5
}
