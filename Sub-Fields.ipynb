{
 "cells": [
  {
   "cell_type": "code",
   "execution_count": 1,
   "id": "0202a492",
   "metadata": {},
   "outputs": [
    {
     "name": "stdout",
     "output_type": "stream",
     "text": [
      "sub-fields in AI ARE:\n",
      "Machine learning\n",
      "Neural networks\n",
      "Robotics\n",
      "vision\n",
      "Speech processing\n",
      "Natural Language Procssing.\n"
     ]
    }
   ],
   "source": [
    "lists=[\"sub-fields in AI ARE:\",\n",
    "       \"Machine learning\",\n",
    "       \"Neural networks\",\n",
    "       \"Robotics\",\n",
    "       \"vision\",\n",
    "       \"Speech processing\",\n",
    "       \"Natural Language Procssing.\"\n",
    "      ]\n",
    "for subfields in lists:\n",
    "    print(subfields)\n",
    "        "
   ]
  },
  {
   "cell_type": "code",
   "execution_count": null,
   "id": "0c8b0444",
   "metadata": {},
   "outputs": [],
   "source": []
  }
 ],
 "metadata": {
  "kernelspec": {
   "display_name": "Python 3 (ipykernel)",
   "language": "python",
   "name": "python3"
  },
  "language_info": {
   "codemirror_mode": {
    "name": "ipython",
    "version": 3
   },
   "file_extension": ".py",
   "mimetype": "text/x-python",
   "name": "python",
   "nbconvert_exporter": "python",
   "pygments_lexer": "ipython3",
   "version": "3.11.4"
  }
 },
 "nbformat": 4,
 "nbformat_minor": 5
}
