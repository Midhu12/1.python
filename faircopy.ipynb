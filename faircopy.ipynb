{
 "cells": [
  {
   "cell_type": "code",
   "execution_count": 1,
   "id": "8faebf80",
   "metadata": {},
   "outputs": [],
   "source": [
    "from Multiplefunctions import multiplefunctions"
   ]
  },
  {
   "cell_type": "code",
   "execution_count": 2,
   "id": "2258ec77",
   "metadata": {},
   "outputs": [
    {
     "name": "stdout",
     "output_type": "stream",
     "text": [
      "enter the number:52452\n",
      "even number\n"
     ]
    },
    {
     "data": {
      "text/plain": [
       "'even number'"
      ]
     },
     "execution_count": 2,
     "metadata": {},
     "output_type": "execute_result"
    }
   ],
   "source": [
    "multiplefunctions.oddeven()"
   ]
  },
  {
   "cell_type": "code",
   "execution_count": 3,
   "id": "e269dbf5",
   "metadata": {},
   "outputs": [
    {
     "name": "stdout",
     "output_type": "stream",
     "text": [
      "subject1:98\n",
      "subject2:87\n",
      "subject3:95\n",
      "subject4:95\n",
      "subject5:93\n",
      "total: 468\n",
      "percentage: 93.6\n"
     ]
    },
    {
     "data": {
      "text/plain": [
       "('percentage:', 93.6)"
      ]
     },
     "execution_count": 3,
     "metadata": {},
     "output_type": "execute_result"
    }
   ],
   "source": [
    "multiplefunctions.percentage()"
   ]
  },
  {
   "cell_type": "code",
   "execution_count": 4,
   "id": "3738373c",
   "metadata": {},
   "outputs": [
    {
     "name": "stdout",
     "output_type": "stream",
     "text": [
      "area of triangle: 6.0\n"
     ]
    },
    {
     "data": {
      "text/plain": [
       "('area:', 6.0)"
      ]
     },
     "execution_count": 4,
     "metadata": {},
     "output_type": "execute_result"
    }
   ],
   "source": [
    "multiplefunctions.areaoftriangle()"
   ]
  },
  {
   "cell_type": "code",
   "execution_count": 6,
   "id": "a39297d9",
   "metadata": {},
   "outputs": [
    {
     "name": "stdout",
     "output_type": "stream",
     "text": [
      "perimeter of triangle: 52\n"
     ]
    },
    {
     "data": {
      "text/plain": [
       "('perimeter:', 52)"
      ]
     },
     "execution_count": 6,
     "metadata": {},
     "output_type": "execute_result"
    }
   ],
   "source": [
    "multiplefunctions.perimeteroftriangle()"
   ]
  },
  {
   "cell_type": "code",
   "execution_count": 7,
   "id": "accd1e09",
   "metadata": {},
   "outputs": [
    {
     "name": "stdout",
     "output_type": "stream",
     "text": [
      "enter your gender\n",
      "'m'for male'f' for female:male\n",
      "enter your age:18\n",
      "your gender: male\n",
      "your age: 18\n",
      "not elegible\n"
     ]
    }
   ],
   "source": [
    "multiplefunctions.elegiblecategory()"
   ]
  },
  {
   "cell_type": "code",
   "execution_count": null,
   "id": "c72f5678",
   "metadata": {},
   "outputs": [],
   "source": []
  }
 ],
 "metadata": {
  "kernelspec": {
   "display_name": "Python 3 (ipykernel)",
   "language": "python",
   "name": "python3"
  },
  "language_info": {
   "codemirror_mode": {
    "name": "ipython",
    "version": 3
   },
   "file_extension": ".py",
   "mimetype": "text/x-python",
   "name": "python",
   "nbconvert_exporter": "python",
   "pygments_lexer": "ipython3",
   "version": "3.11.4"
  }
 },
 "nbformat": 4,
 "nbformat_minor": 5
}
